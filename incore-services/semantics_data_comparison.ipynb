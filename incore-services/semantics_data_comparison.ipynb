{
 "cells": [
  {
   "cell_type": "code",
   "execution_count": 1,
   "metadata": {},
   "outputs": [],
   "source": [
    "from pyincore import IncoreClient, SpaceService\n",
    "import pyincore.analyses\n",
    "import os\n",
    "import inspect\n",
    "import importlib\n",
    "from pymongo import MongoClient\n",
    "import csv\n",
    "import json\n",
    "from dotenv import load_dotenv"
   ]
  },
  {
   "cell_type": "code",
   "execution_count": 2,
   "metadata": {},
   "outputs": [
    {
     "data": {
      "text/plain": [
       "True"
      ]
     },
     "execution_count": 2,
     "metadata": {},
     "output_type": "execute_result"
    }
   ],
   "source": [
    "load_dotenv()"
   ]
  },
  {
   "cell_type": "code",
   "execution_count": 3,
   "metadata": {},
   "outputs": [
    {
     "name": "stdout",
     "output_type": "stream",
     "text": [
      "Connection successful to IN-CORE services. pyIncore version detected: 1.12.0\n",
      "Connection successful to IN-CORE services. pyIncore version detected: 1.12.0\n"
     ]
    }
   ],
   "source": [
    "prod_client = IncoreClient()\n",
    "dev_client = IncoreClient(\"https://incore-dev.ncsa.illinois.edu\")"
   ]
  },
  {
   "cell_type": "code",
   "execution_count": null,
   "metadata": {},
   "outputs": [],
   "source": [
    "mongo_username = \"root\"\n",
    "mongo_password = os.getenv(\"PWDEV\")\n",
    "host = \"localhost\"\n",
    "port = \"27019\"  # dev\n",
    "\n",
    "mongoclient = MongoClient(\n",
    "    \"mongodb://%s:%s@%s:%s\" % (mongo_username, mongo_password, host, port)\n",
    ")"
   ]
  },
  {
   "cell_type": "code",
   "execution_count": 5,
   "metadata": {},
   "outputs": [],
   "source": [
    "mongo_username = \"root\"\n",
    "mongo_password = os.getenv(\"PWPROD\")\n",
    "host = \"localhost\"\n",
    "port = \"27020\"  # prod\n",
    "\n",
    "mongoclient: MongoClient = MongoClient(\n",
    "    \"mongodb://%s:%s@%s:%s\" % (mongo_username, mongo_password, host, port)\n",
    ")"
   ]
  },
  {
   "cell_type": "code",
   "execution_count": 6,
   "metadata": {},
   "outputs": [
    {
     "name": "stdout",
     "output_type": "stream",
     "text": [
      "5a284f2dc7d30d13bc082004\n",
      "5a284f2dc7d30d13bc082022\n",
      "5a284f2dc7d30d13bc082040\n",
      "5a284f2ec7d30d13bc08205e\n",
      "5d6ede5db9219c34b56fc20b\n",
      "5e7e5a29fb9f440008c94cbf\n",
      "60e5e576d3c92a78c893ff69\n",
      "6356c54488a94f621d903799\n"
     ]
    }
   ],
   "source": [
    "for document in mongoclient[\"datadb\"][\"Dataset\"].find(\n",
    "    {\"dataType\": \"ergo:bridges\"}\n",
    "):\n",
    "    print(document[\"_id\"])"
   ]
  },
  {
   "cell_type": "code",
   "execution_count": null,
   "metadata": {},
   "outputs": [],
   "source": []
  }
 ],
 "metadata": {
  "kernelspec": {
   "display_name": "incore",
   "language": "python",
   "name": "python3"
  },
  "language_info": {
   "codemirror_mode": {
    "name": "ipython",
    "version": 3
   },
   "file_extension": ".py",
   "mimetype": "text/x-python",
   "name": "python",
   "nbconvert_exporter": "python",
   "pygments_lexer": "ipython3",
   "version": "3.10.12"
  },
  "orig_nbformat": 4
 },
 "nbformat": 4,
 "nbformat_minor": 2
}
