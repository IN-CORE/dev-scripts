{
 "cells": [
  {
   "cell_type": "code",
   "execution_count": 17,
   "metadata": {},
   "outputs": [],
   "source": [
    "from pymongo import MongoClient\n",
    "import os\n",
    "from pprint import pprint\n",
    "import json"
   ]
  },
  {
   "cell_type": "code",
   "execution_count": 2,
   "metadata": {},
   "outputs": [],
   "source": [
    "mongo_username = \"root\"\n",
    "mongo_password = os.environ.get(\"PW\")\n",
    "host = \"localhost\"\n",
    "port = \"27020\"  # prod\n",
    "\n",
    "mongoclient_prod = MongoClient(\n",
    "    \"mongodb://%s:%s@%s:%s\" % (mongo_username, mongo_password, host, port)\n",
    ")"
   ]
  },
  {
   "cell_type": "code",
   "execution_count": null,
   "metadata": {},
   "outputs": [],
   "source": [
    "mongo_username = \"root\"\n",
    "mongo_password = os.environ.get(\"PW\")\n",
    "host = \"localhost\"\n",
    "port = \"27019\"  # dev\n",
    "\n",
    "mongoclient_dev = MongoClient(\n",
    "    \"mongodb://%s:%s@%s:%s\" % (mongo_username, mongo_password, host, port)\n",
    ")"
   ]
  },
  {
   "cell_type": "code",
   "execution_count": 2,
   "metadata": {},
   "outputs": [],
   "source": [
    "host = \"localhost\"\n",
    "port = \"27017\"  # local\n",
    "\n",
    "mongoclient_local = MongoClient(\"mongodb://%s:%s\" % (host, port))"
   ]
  },
  {
   "cell_type": "markdown",
   "metadata": {},
   "source": [
    "## For Tornado\n"
   ]
  },
  {
   "cell_type": "code",
   "execution_count": null,
   "metadata": {},
   "outputs": [],
   "source": [
    "def add_field(mongodbclient: MongoClient) -> None:\n",
    "    for document in mongodbclient[\"hazarddb\"][\"TornadoDataset\"].find():\n",
    "        document[\"hazardDatasets\"] = [\n",
    "            {\n",
    "                \"datasetId\": document[\"datasetId\"],\n",
    "                \"demandType\": \"wind\",\n",
    "                \"demandUnits\": \"mph\",\n",
    "                \"threshold\": None,\n",
    "            }\n",
    "        ]\n",
    "        # replace document\n",
    "        mongodbclient[\"hazarddb\"][\"TornadoDataset\"].replace_one(\n",
    "            {\"_id\": document[\"_id\"]}, document\n",
    "        )\n",
    "        # pprint(document)"
   ]
  },
  {
   "cell_type": "code",
   "execution_count": 5,
   "metadata": {},
   "outputs": [],
   "source": [
    "## for local\n",
    "add_field(mongoclient_local)\n",
    "\n",
    "## for prod\n",
    "# add_field(mongoclient_prod)\n",
    "\n",
    "## for dev\n",
    "# add_field(mongoclient_dev)"
   ]
  },
  {
   "cell_type": "code",
   "execution_count": null,
   "metadata": {},
   "outputs": [],
   "source": [
    "def del_datasetId(mongodbclient: MongoClient) -> None:\n",
    "    revert_dict: dict = {}\n",
    "    for document in mongodbclient[\"hazarddb\"][\"TornadoDataset\"].find():\n",
    "        # remove datasetId key from main document\n",
    "        revert_dict[document[\"_id\"]] = document[\"datasetId\"]\n",
    "        del document[\"datasetId\"]\n",
    "        # replace document\n",
    "        mongodbclient[\"hazarddb\"][\"TornadoDataset\"].replace_one(\n",
    "            {\"_id\": document[\"_id\"]}, document\n",
    "        )\n",
    "    with open(\"revert_deleted_datasetIds.json\", \"w\") as f:\n",
    "        f.write(json.dumps(revert_dict, indent=4))"
   ]
  },
  {
   "cell_type": "code",
   "execution_count": null,
   "metadata": {},
   "outputs": [],
   "source": [
    "def revert_del_datasetIds(mongodbclient: MongoClient) -> None:\n",
    "    with open(\"revert_deleted_datasetIds.json\", \"r\") as f:\n",
    "        revert_dict = json.load(f)\n",
    "    for _id, datasetId in revert_dict.items():\n",
    "        mongodbclient[\"hazarddb\"][\"TornadoDataset\"].update_one(\n",
    "            {\"_id\": _id}, {\"$set\": {\"datasetId\": datasetId}}\n",
    "        )"
   ]
  },
  {
   "cell_type": "code",
   "execution_count": null,
   "metadata": {},
   "outputs": [],
   "source": [
    "### run after we have updated all other components and we are ready to remove this key.\n",
    "\n",
    "## for local\n",
    "# del_datasetId(mongoclient_local)\n",
    "\n",
    "## for prod\n",
    "# del_datasetId(mongoclient_prod)\n",
    "\n",
    "## for dev\n",
    "# del_datasetId(mongoclient_dev)"
   ]
  },
  {
   "cell_type": "code",
   "execution_count": null,
   "metadata": {},
   "outputs": [],
   "source": [
    "### NOOO!!! revertttttt\n",
    "\n",
    "## for local\n",
    "# revert_del_datasetIds(mongoclient_local)\n",
    "\n",
    "## for prod\n",
    "# revert_del_datasetIds(mongoclient_prod)\n",
    "\n",
    "## for dev\n",
    "# revert_del_datasetIds(mongoclient_dev)"
   ]
  },
  {
   "cell_type": "markdown",
   "metadata": {},
   "source": [
    "## For Earthquake\n"
   ]
  },
  {
   "cell_type": "code",
   "execution_count": 15,
   "metadata": {},
   "outputs": [],
   "source": [
    "def modify_field(mongodbclient: MongoClient) -> None:\n",
    "    for document in mongodbclient[\"hazarddb\"][\"EarthquakeModel\"].find():\n",
    "        # modify field\n",
    "        document[\"hazardDataset\"] = document[\"rasterDataset\"]\n",
    "        document.pop(\"rasterDataset\")\n",
    "        # replace document\n",
    "        mongodbclient[\"hazarddb\"][\"EarthquakeModel\"].replace_one(\n",
    "            {\"_id\": document[\"_id\"]}, document\n",
    "        )"
   ]
  },
  {
   "cell_type": "code",
   "execution_count": 16,
   "metadata": {},
   "outputs": [],
   "source": [
    "## for local\n",
    "modify_field(mongoclient_local)\n",
    "\n",
    "## for prod\n",
    "# modify_field(mongoclient_prod)\n",
    "\n",
    "## for dev\n",
    "# modify_field(mongoclient_dev)"
   ]
  },
  {
   "cell_type": "code",
   "execution_count": null,
   "metadata": {},
   "outputs": [],
   "source": []
  }
 ],
 "metadata": {
  "kernelspec": {
   "display_name": "incore",
   "language": "python",
   "name": "python3"
  },
  "language_info": {
   "codemirror_mode": {
    "name": "ipython",
    "version": 3
   },
   "file_extension": ".py",
   "mimetype": "text/x-python",
   "name": "python",
   "nbconvert_exporter": "python",
   "pygments_lexer": "ipython3",
   "version": "3.11.6"
  }
 },
 "nbformat": 4,
 "nbformat_minor": 2
}
