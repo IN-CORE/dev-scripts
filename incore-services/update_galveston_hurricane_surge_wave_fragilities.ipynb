{
 "cells": [
  {
   "cell_type": "code",
   "execution_count": null,
   "metadata": {},
   "outputs": [],
   "source": [
    "from pymongo import MongoClient\n",
    "import os\n",
    "from pprint import pprint\n",
    "import json\n",
    "from dotenv import load_dotenv\n",
    "from bson.objectid import ObjectId\n",
    "from bson import json_util\n",
    "import re"
   ]
  },
  {
   "cell_type": "code",
   "execution_count": null,
   "metadata": {},
   "outputs": [],
   "source": [
    "# Load environment variables\n",
    "load_dotenv()"
   ]
  },
  {
   "cell_type": "code",
   "execution_count": null,
   "metadata": {},
   "outputs": [],
   "source": [
    "mongo_username = \"root\"\n",
    "mongo_password = os.environ.get(\"PRODMONGOPASSWORD\")\n",
    "host = \"localhost\"\n",
    "port = \"27019\"  # dev\n",
    "\n",
    "mongoclient_dev = MongoClient(\n",
    "    \"mongodb://%s:%s@%s:%s\" % (mongo_username, mongo_password, host, port)\n",
    ")\n",
    "# Send a ping to the server to see if it's responding\n",
    "try:\n",
    "    mongoclient_dev.admin.command('ping')\n",
    "    print(\"Pinged your deployment. You successfully connected to MongoDB!\")\n",
    "except Exception as e:\n",
    "    print(e)\n"
   ]
  },
  {
   "cell_type": "markdown",
   "metadata": {},
   "source": [
    "## Get Galveston Mapping Set"
   ]
  },
  {
   "cell_type": "code",
   "execution_count": null,
   "metadata": {},
   "outputs": [],
   "source": [
    "# Select your database\n",
    "db = mongoclient_dev['dfr3db']\n",
    "# Select your collection\n",
    "collection = db['MappingSet']\n",
    "\n",
    "# Perform the query to find one document with the specified ObjectId\n",
    "mapping_doc = collection.find_one({\"_id\": ObjectId(\"6303e51bd76c6d0e1f6be080\")})\n",
    "\n",
    "fragilities = [ i['entry']['Non-Retrofit Fragility ID Code'] for i in mapping_doc['mappings']]\n",
    "\n",
    "fragilities"
   ]
  },
  {
   "cell_type": "code",
   "execution_count": null,
   "metadata": {},
   "outputs": [],
   "source": [
    "def get_fragility_mapping(fragility_id):\n",
    "    collection = db['FragilitySet']\n",
    "    fragility_doc = collection.find_one({\"_id\": ObjectId(fragility_id)})\n",
    "    return fragility_doc\n",
    "\n",
    "# Save the fragility mapping to a json file\n",
    "for id in fragilities:\n",
    "    fragility_doc = get_fragility_mapping(id)\n",
    "    os.makedirs(\"fragilities_backup\", exist_ok=True)  # Create the directory if it doesn't exist\n",
    "    with open(f\"fragilities_backup/fragility_{id}.json\", \"w\") as f:\n",
    "        # Convert the document to a JSON string and write it to a file\n",
    "        f.write(json_util.dumps(fragility_doc, indent=4))\n",
    "        print(f\"Saved fragility_{id}.json\")"
   ]
  },
  {
   "cell_type": "code",
   "execution_count": null,
   "metadata": {},
   "outputs": [],
   "source": [
    "pprint(get_fragility_mapping(fragilities[0]))"
   ]
  },
  {
   "cell_type": "code",
   "execution_count": null,
   "metadata": {},
   "outputs": [],
   "source": [
    "def regex_replace_in_json(data, pattern, replacement):\n",
    "    if isinstance(data, dict):\n",
    "        for key, value in data.items():\n",
    "            data[key] = regex_replace_in_json(value, pattern, replacement)\n",
    "    elif isinstance(data, list):\n",
    "        data = [regex_replace_in_json(item, pattern, replacement) for item in data]\n",
    "    elif isinstance(data, str):\n",
    "        data = re.sub(pattern, replacement, data)\n",
    "    return data\n",
    "    \n",
    "# Replace the string in the json file\n",
    "pattern = r\"math\\.floor\\(ffe_elev\\)\"\n",
    "replacement = r\"round(ffe_elev)\"\n",
    "collection = db['FragilitySet']\n",
    "\n",
    "for id in fragilities:\n",
    "    frag_json = get_fragility_mapping(id)\n",
    "    frag_json_updated = regex_replace_in_json(frag_json, pattern, replacement)\n",
    "    # Update the document in the collection\n",
    "    collection.update_one({\"_id\": ObjectId(id)}, {\"$set\": frag_json_updated})\n",
    "\n"
   ]
  },
  {
   "cell_type": "code",
   "execution_count": null,
   "metadata": {},
   "outputs": [],
   "source": [
    "# Test the replacement\n",
    "frag_json = collection.find_one({\"_id\": ObjectId(fragilities[0])})\n",
    "pprint(frag_json)"
   ]
  },
  {
   "cell_type": "code",
   "execution_count": null,
   "metadata": {},
   "outputs": [],
   "source": [
    "# Replace document in the collection with backup\n",
    "for id in fragilities:\n",
    "    with open(f\"fragilities_backup/fragility_{id}.json\", \"r\") as f:\n",
    "        frag_json = json_util.loads(f.read())\n",
    "        collection.update_one({\"_id\": ObjectId(id)}, {\"$set\": frag_json})\n",
    "        print(f\"Updated fragility_{id}.json\")"
   ]
  },
  {
   "cell_type": "markdown",
   "metadata": {},
   "source": []
  }
 ],
 "metadata": {
  "kernelspec": {
   "display_name": "incore-dev-scripts",
   "language": "python",
   "name": "python3"
  },
  "language_info": {
   "codemirror_mode": {
    "name": "ipython",
    "version": 3
   },
   "file_extension": ".py",
   "mimetype": "text/x-python",
   "name": "python",
   "nbconvert_exporter": "python",
   "pygments_lexer": "ipython3",
   "version": "3.10.13"
  }
 },
 "nbformat": 4,
 "nbformat_minor": 2
}
