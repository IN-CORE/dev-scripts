{
 "cells": [
  {
   "cell_type": "code",
   "execution_count": 1,
   "metadata": {},
   "outputs": [],
   "source": [
    "from pymongo import MongoClient\n",
    "import os\n",
    "from pprint import pprint"
   ]
  },
  {
   "cell_type": "code",
   "execution_count": 2,
   "metadata": {},
   "outputs": [],
   "source": [
    "mongo_username = \"root\"\n",
    "mongo_password = os.environ.get(\"PW\")\n",
    "host = \"localhost\"\n",
    "port = \"27020\"  # prod\n",
    "\n",
    "mongoclient = MongoClient(\n",
    "    \"mongodb://%s:%s@%s:%s\" % (mongo_username, mongo_password, host, port)\n",
    ")"
   ]
  },
  {
   "cell_type": "code",
   "execution_count": 2,
   "metadata": {},
   "outputs": [],
   "source": [
    "host = \"localhost\"\n",
    "port = \"27017\"  # local\n",
    "\n",
    "mongoclient_local = MongoClient(\"mongodb://%s:%s\" % (host, port))"
   ]
  },
  {
   "cell_type": "code",
   "execution_count": 3,
   "metadata": {},
   "outputs": [
    {
     "data": {
      "text/plain": [
       "<pymongo.cursor.Cursor at 0x10cd09c90>"
      ]
     },
     "execution_count": 3,
     "metadata": {},
     "output_type": "execute_result"
    }
   ],
   "source": [
    "mongoclient_local[\"hazarddb\"][\"TornadoDataset\"].find()"
   ]
  },
  {
   "cell_type": "code",
   "execution_count": 5,
   "metadata": {},
   "outputs": [],
   "source": [
    "for document in mongoclient_local[\"hazarddb\"][\"TornadoDataset\"].find():\n",
    "    document[\"hazardDatasets\"] = [\n",
    "        {\n",
    "            \"datasetId\": document[\"datasetId\"],\n",
    "            \"demandType\": \"wind\",\n",
    "            \"demandUnits\": \"mph\",\n",
    "            \"threshold\": None,\n",
    "        }\n",
    "    ]\n",
    "    # replace document\n",
    "    mongoclient_local[\"hazarddb\"][\"TornadoDataset\"].replace_one(\n",
    "        {\"_id\": document[\"_id\"]}, document\n",
    "    )\n",
    "    # pprint(document)"
   ]
  },
  {
   "cell_type": "code",
   "execution_count": null,
   "metadata": {},
   "outputs": [],
   "source": [
    "## run after we have updated all other components and we are ready to remove this key.\n",
    "\n",
    "for document in mongoclient_local[\"hazarddb\"][\"TornadoDataset\"].find():\n",
    "    # remove datasetId key from main document\n",
    "    del document[\"datasetId\"]\n",
    "    # replace document\n",
    "    mongoclient_local[\"hazarddb\"][\"TornadoDataset\"].replace_one(\n",
    "        {\"_id\": document[\"_id\"]}, document\n",
    "    )"
   ]
  }
 ],
 "metadata": {
  "kernelspec": {
   "display_name": "incore",
   "language": "python",
   "name": "python3"
  },
  "language_info": {
   "codemirror_mode": {
    "name": "ipython",
    "version": 3
   },
   "file_extension": ".py",
   "mimetype": "text/x-python",
   "name": "python",
   "nbconvert_exporter": "python",
   "pygments_lexer": "ipython3",
   "version": "3.11.6"
  }
 },
 "nbformat": 4,
 "nbformat_minor": 2
}
