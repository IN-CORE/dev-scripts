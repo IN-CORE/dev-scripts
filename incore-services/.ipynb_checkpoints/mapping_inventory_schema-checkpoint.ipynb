{
 "cells": [
  {
   "cell_type": "markdown",
   "id": "de8a9ab4",
   "metadata": {},
   "source": [
    "This notebook get the unique column types being used in mapping for any given inventory type"
   ]
  },
  {
   "cell_type": "code",
   "execution_count": 1,
   "id": "a2b11671",
   "metadata": {},
   "outputs": [],
   "source": [
    "from pyincore import IncoreClient, MappingSet, FragilityService"
   ]
  },
  {
   "cell_type": "code",
   "execution_count": 2,
   "id": "77126730",
   "metadata": {},
   "outputs": [
    {
     "name": "stdout",
     "output_type": "stream",
     "text": [
      "Connection successful to IN-CORE services. pyIncore version detected: 1.12.0alpha1\n"
     ]
    }
   ],
   "source": [
    "client = IncoreClient()\n",
    "fragility_svc = FragilityService(client)"
   ]
  },
  {
   "cell_type": "code",
   "execution_count": 9,
   "id": "35b5b1ab",
   "metadata": {},
   "outputs": [],
   "source": [
    "def get_unique_inventory_column_mapping(inventory_type, space):\n",
    "    mappings = fragility_svc.get_mappings(inventory_type=inventory_type, space=space, limit=20000, skip=0)\n",
    "    unique_column_name = []\n",
    "    for mapping in mappings:\n",
    "        for mp in mapping[\"mappings\"]:\n",
    "            for rule in mp[\"rules\"]:\n",
    "                if isinstance(rule, list):\n",
    "                    for r in rule:\n",
    "                        column_name = r.split(\" \")[1]\n",
    "                        if column_name not in unique_column_name:\n",
    "                            unique_column_name.append(column_name)\n",
    "                elif isinstance(rule, dict):\n",
    "                    for r in rules.values():\n",
    "                        column_name = r.split(\" \")[1]\n",
    "                        if column_name not in unique_column_name:\n",
    "                            unique_column_name.append(column_name)\n",
    "    return unique_column_name"
   ]
  },
  {
   "cell_type": "code",
   "execution_count": 15,
   "id": "1bb958fe",
   "metadata": {
    "scrolled": false
   },
   "outputs": [
    {
     "data": {
      "text/plain": [
       "['backuppowe', 'utilfcltyc']"
      ]
     },
     "execution_count": 15,
     "metadata": {},
     "output_type": "execute_result"
    }
   ],
   "source": [
    "wf_columns = []\n",
    "wf_columns += get_unique_inventory_column_mapping(\"water_facility\", \"ergo\")\n",
    "wf_columns += get_unique_inventory_column_mapping(\"water_facility\", \"incore\")\n",
    "wf_columns"
   ]
  },
  {
   "cell_type": "code",
   "execution_count": 17,
   "id": "ce64c2d0",
   "metadata": {},
   "outputs": [
    {
     "data": {
      "text/plain": [
       "['utilfcltyc']"
      ]
     },
     "execution_count": 17,
     "metadata": {},
     "output_type": "execute_result"
    }
   ],
   "source": [
    "epf_columns = []\n",
    "epf_columns += get_unique_inventory_column_mapping(\"electric_facility\", \"ergo\")\n",
    "epf_columns += get_unique_inventory_column_mapping(\"electric_facility\", \"incore\")\n",
    "epf_columns"
   ]
  },
  {
   "cell_type": "code",
   "execution_count": 18,
   "id": "627c8de8",
   "metadata": {},
   "outputs": [
    {
     "data": {
      "text/plain": [
       "['pipelinesc']"
      ]
     },
     "execution_count": 18,
     "metadata": {},
     "output_type": "execute_result"
    }
   ],
   "source": [
    "pipeline_columns = []\n",
    "pipeline_columns += get_unique_inventory_column_mapping(\"buried_pipeline\", \"ergo\")\n",
    "pipeline_columns += get_unique_inventory_column_mapping(\"buried_pipeline\", \"incore\")\n",
    "pipeline_columns"
   ]
  },
  {
   "cell_type": "code",
   "execution_count": 19,
   "id": "321638dd",
   "metadata": {},
   "outputs": [
    {
     "data": {
      "text/plain": [
       "['no_stories',\n",
       " 'year_built',\n",
       " 'Soil',\n",
       " 'occ_type',\n",
       " 'struct_typ',\n",
       " 'efacility',\n",
       " 'dlevel',\n",
       " 'struct_typ',\n",
       " 'no_stories',\n",
       " 'year_built',\n",
       " 'Soil',\n",
       " 'occ_type',\n",
       " 'efacility',\n",
       " 'dgn_lvl',\n",
       " 'archetype',\n",
       " 'retrofit_method']"
      ]
     },
     "execution_count": 19,
     "metadata": {},
     "output_type": "execute_result"
    }
   ],
   "source": [
    "building_columns = []\n",
    "building_columns += get_unique_inventory_column_mapping(\"building\", \"ergo\")\n",
    "building_columns += get_unique_inventory_column_mapping(\"building\", \"incore\")\n",
    "building_columns"
   ]
  },
  {
   "cell_type": "code",
   "execution_count": 20,
   "id": "b0dd4c23",
   "metadata": {},
   "outputs": [
    {
     "data": {
      "text/plain": [
       "['class']"
      ]
     },
     "execution_count": 20,
     "metadata": {},
     "output_type": "execute_result"
    }
   ],
   "source": [
    "bridge_columns = []\n",
    "bridge_columns += get_unique_inventory_column_mapping(\"bridge\", \"ergo\")\n",
    "bridge_columns += get_unique_inventory_column_mapping(\"bridge\", \"incore\")\n",
    "bridge_columns"
   ]
  },
  {
   "cell_type": "code",
   "execution_count": 21,
   "id": "51cdffd4",
   "metadata": {},
   "outputs": [
    {
     "data": {
      "text/plain": [
       "[]"
      ]
     },
     "execution_count": 21,
     "metadata": {},
     "output_type": "execute_result"
    }
   ],
   "source": [
    "roadway_columns = []\n",
    "roadway_columns += get_unique_inventory_column_mapping(\"roadway\", \"ergo\")\n",
    "roadway_columns += get_unique_inventory_column_mapping(\"roadway\", \"incore\")\n",
    "roadway_columns"
   ]
  },
  {
   "cell_type": "code",
   "execution_count": 22,
   "id": "891c32aa",
   "metadata": {},
   "outputs": [
    {
     "data": {
      "text/plain": [
       "[]"
      ]
     },
     "execution_count": 22,
     "metadata": {},
     "output_type": "execute_result"
    }
   ],
   "source": [
    "epl_columns = []\n",
    "epf_columns += get_unique_inventory_column_mapping(\"electric_power_line\", \"ergo\")\n",
    "epf_columns += get_unique_inventory_column_mapping(\"electric_power_line\", \"incore\")\n",
    "epl_columns"
   ]
  },
  {
   "cell_type": "code",
   "execution_count": 23,
   "id": "bba74fa2",
   "metadata": {},
   "outputs": [
    {
     "data": {
      "text/plain": [
       "[]"
      ]
     },
     "execution_count": 23,
     "metadata": {},
     "output_type": "execute_result"
    }
   ],
   "source": [
    "gas_columns = []\n",
    "gas_columns += get_unique_inventory_column_mapping(\"gas_facility\", \"ergo\")\n",
    "gas_columns += get_unique_inventory_column_mapping(\"gas_facility\", \"incore\")\n",
    "gas_columns"
   ]
  },
  {
   "cell_type": "code",
   "execution_count": null,
   "id": "491e725d",
   "metadata": {},
   "outputs": [],
   "source": []
  }
 ],
 "metadata": {
  "kernelspec": {
   "display_name": "Python 3 (ipykernel)",
   "language": "python",
   "name": "python3"
  },
  "language_info": {
   "codemirror_mode": {
    "name": "ipython",
    "version": 3
   },
   "file_extension": ".py",
   "mimetype": "text/x-python",
   "name": "python",
   "nbconvert_exporter": "python",
   "pygments_lexer": "ipython3",
   "version": "3.9.16"
  }
 },
 "nbformat": 4,
 "nbformat_minor": 5
}
