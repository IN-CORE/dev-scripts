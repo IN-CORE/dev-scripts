{
 "cells": [
  {
   "cell_type": "code",
   "execution_count": null,
   "metadata": {},
   "outputs": [],
   "source": [
    "import pyincore\n",
    "from pyincore import DataService, IncoreClient, FragilityService, HazardService, RepairService, RestorationService"
   ]
  },
  {
   "cell_type": "code",
   "execution_count": null,
   "metadata": {},
   "outputs": [],
   "source": [
    "def get_union(list1, list2):\n",
    "    union_items = []\n",
    "    for item1 in list1:\n",
    "        if item1[\"id\"] not in union_items:\n",
    "            union_items.append(item1[\"id\"])\n",
    "    for item2 in list2:\n",
    "        if item2[\"id\"] not in union_items:\n",
    "            union_items.append(item2[\"id\"])\n",
    "\n",
    "    return len(union_items)"
   ]
  },
  {
   "cell_type": "code",
   "execution_count": null,
   "metadata": {
    "scrolled": false
   },
   "outputs": [],
   "source": [
    "client = IncoreClient()\n",
    "datasvc = DataService(client)"
   ]
  },
  {
   "cell_type": "code",
   "execution_count": null,
   "metadata": {},
   "outputs": [],
   "source": [
    "datasets_incore= datasvc.get_datasets(space=\"incore\", limit=100000)\n",
    "datasets_ergo= datasvc.get_datasets(space=\"ergo\", limit=100000)\n",
    "tot_dataset = get_union(datasets_ergo, datasets_incore)\n",
    "print(len(datasets_ergo), len(datasets_incore), tot_dataset)"
   ]
  },
  {
   "cell_type": "markdown",
   "metadata": {},
   "source": [
    "### get the unique datasettype"
   ]
  },
  {
   "cell_type": "code",
   "execution_count": null,
   "metadata": {},
   "outputs": [],
   "source": [
    "unique_datatype = []\n",
    "for dataset in datasets_incore:\n",
    "    if dataset['dataType'] not in unique_datatype:\n",
    "        unique_datatype.append(dataset['dataType'])\n",
    "tot_datatype = len(unique_datatype)\n",
    "print(tot_datatype)"
   ]
  },
  {
   "cell_type": "code",
   "execution_count": null,
   "metadata": {},
   "outputs": [],
   "source": [
    "fragilitysvc = FragilityService(client)\n",
    "fragilities_incore = fragilitysvc.get_dfr3_sets(space=\"incore\", limit=100000)\n",
    "fragilities_ergo = fragilitysvc.get_dfr3_sets(space=\"ergo\", limit=100000)"
   ]
  },
  {
   "cell_type": "code",
   "execution_count": null,
   "metadata": {},
   "outputs": [],
   "source": [
    "tot_fragility = get_union(fragilities_ergo, fragilities_incore)\n",
    "print(len(fragilities_ergo), len(fragilities_incore), tot_fragility)"
   ]
  },
  {
   "cell_type": "code",
   "execution_count": null,
   "metadata": {},
   "outputs": [],
   "source": [
    "repairsvc = RepairService(client)\n",
    "repairs_ergo = repairsvc.get_dfr3_sets(space=\"ergo\", limit=100000)\n",
    "repairs_incore = repairsvc.get_dfr3_sets(space=\"incore\", limit=100000)"
   ]
  },
  {
   "cell_type": "code",
   "execution_count": null,
   "metadata": {},
   "outputs": [],
   "source": [
    "tot_repair = get_union(repairs_ergo, repairs_incore)\n",
    "print(len(repairs_ergo), len(repairs_incore), tot_repair)"
   ]
  },
  {
   "cell_type": "code",
   "execution_count": null,
   "metadata": {},
   "outputs": [],
   "source": [
    "restorationsvc = RestorationService(client)\n",
    "rest_ergo = restorationsvc.get_dfr3_sets(space=\"ergo\", limit=100000)\n",
    "rest_incore = restorationsvc.get_dfr3_sets(space=\"incore\", limit=100000)"
   ]
  },
  {
   "cell_type": "code",
   "execution_count": null,
   "metadata": {},
   "outputs": [],
   "source": [
    "tot_restore = get_union(rest_ergo, rest_incore)\n",
    "print(len(rest_ergo), len(rest_incore), tot_restore)"
   ]
  },
  {
   "cell_type": "code",
   "execution_count": null,
   "metadata": {},
   "outputs": [],
   "source": [
    "hazardsvc = HazardService(client)\n",
    "eq_ergo = hazardsvc.get_earthquake_hazard_metadata_list(space=\"ergo\", limit=100000)\n",
    "eq_incore = hazardsvc.get_earthquake_hazard_metadata_list(space=\"incore\", limit=100000)\n",
    "tot_eq = get_union(eq_ergo, eq_incore)\n",
    "print(len(eq_ergo), len(eq_incore), tot_eq)"
   ]
  },
  {
   "cell_type": "code",
   "execution_count": null,
   "metadata": {},
   "outputs": [],
   "source": [
    "flood_ergo = hazardsvc.get_flood_metadata_list(space=\"ergo\", limit=100000)\n",
    "flood_incore = hazardsvc.get_flood_metadata_list(space=\"incore\", limit=100000)\n",
    "tot_flood = get_union(flood_ergo, flood_incore)\n",
    "print(len(flood_ergo), len(flood_incore), tot_flood)"
   ]
  },
  {
   "cell_type": "code",
   "execution_count": null,
   "metadata": {},
   "outputs": [],
   "source": [
    "tornado_ergo = hazardsvc.get_tornado_hazard_metadata_list(space=\"ergo\", limit=100000)\n",
    "tornado_incore = hazardsvc.get_tornado_hazard_metadata_list(space=\"incore\", limit=100000)\n",
    "tot_tornado = get_union(tornado_ergo, tornado_incore)\n",
    "print(len(tornado_ergo), len(tornado_incore), tot_tornado)"
   ]
  },
  {
   "cell_type": "code",
   "execution_count": null,
   "metadata": {},
   "outputs": [],
   "source": [
    "tsu_ergo = hazardsvc.get_tsunami_hazard_metadata_list(space=\"ergo\", limit=100000)\n",
    "tsu_incore = hazardsvc.get_tsunami_hazard_metadata_list(space=\"incore\", limit=100000)\n",
    "tot_tsunami = get_union(tsu_ergo, tsu_incore)\n",
    "print(len(tsu_ergo), len(tsu_incore), tot_tsunami)"
   ]
  },
  {
   "cell_type": "code",
   "execution_count": null,
   "metadata": {},
   "outputs": [],
   "source": [
    "hurr_ergo = hazardsvc.get_hurricane_metadata_list(space=\"ergo\", limit=100000)\n",
    "hurr_incore = hazardsvc.get_hurricane_metadata_list(space=\"incore\", limit=100000)\n",
    "tot_hurr = get_union(hurr_ergo, hurr_incore)\n",
    "print(len(hurr_ergo), len(hurr_incore), tot_hurr)"
   ]
  },
  {
   "cell_type": "code",
   "execution_count": null,
   "metadata": {},
   "outputs": [],
   "source": [
    "tot_hazard = tot_eq + tot_hurr + tot_tsunami + tot_flood + tot_tornado\n",
    "hazard_percentage = tot_hazard / tot_dataset * 100\n",
    "tot_curves = tot_fragility + tot_repair + tot_restore\n",
    "print(\"• \" + str(tot_dataset) + \" datasets (\" + str(int(hazard_percentage)) + \"% of them are hazard data) with \" + str(tot_datatype) + \" dataset types\")\n",
    "print(\"• \" + str(tot_curves) + \" fragility, repair, and restoration curves\")\n",
    "print(\"• Earthquake\")\n",
    "print(\"• Tsunami\")\n",
    "print(\"• Flood\")\n",
    "print(\"• Tornado\")\n",
    "print(\"• Hurricane wind\")\n",
    "print(\"• Surge/wave\")\n",
    "print(\"• \" + str(tot_eq) + \" earthquake hazards\")\n",
    "print(\"• \" + str(tot_tsunami) + \" tsunami hazards with diff intensities\")\n",
    "print(\"• \" + str(tot_flood) + \" flood hazards\")\n",
    "print(\"• \" + str(tot_tornado) + \" tornado hazards\")\n",
    "print(\"• \" + str(tot_hurr) + \" hurricane wave/surge hazards\")"
   ]
  },
  {
   "cell_type": "code",
   "execution_count": null,
   "metadata": {},
   "outputs": [],
   "source": []
  },
  {
   "cell_type": "code",
   "execution_count": null,
   "metadata": {},
   "outputs": [],
   "source": []
  }
 ],
 "metadata": {
  "kernelspec": {
   "display_name": "Python 3 (ipykernel)",
   "language": "python",
   "name": "python3"
  },
  "language_info": {
   "codemirror_mode": {
    "name": "ipython",
    "version": 3
   },
   "file_extension": ".py",
   "mimetype": "text/x-python",
   "name": "python",
   "nbconvert_exporter": "python",
   "pygments_lexer": "ipython3",
   "version": "3.9.0"
  }
 },
 "nbformat": 4,
 "nbformat_minor": 2
}
