{
 "cells": [
  {
   "cell_type": "markdown",
   "id": "de8a9ab4",
   "metadata": {},
   "source": [
    "This notebook get the unique column types being used in mapping for any given inventory type"
   ]
  },
  {
   "cell_type": "code",
   "execution_count": 4,
   "id": "a2b11671",
   "metadata": {},
   "outputs": [],
   "source": [
    "from pyincore import IncoreClient, MappingSet, FragilityService"
   ]
  },
  {
   "cell_type": "code",
   "execution_count": 6,
   "id": "77126730",
   "metadata": {},
   "outputs": [
    {
     "name": "stdout",
     "output_type": "stream",
     "text": [
      "Connection successful to IN-CORE services. pyIncore version detected: 1.10.0\n"
     ]
    }
   ],
   "source": [
    "client = IncoreClient()\n",
    "fragility_svc = FragilityService(client)"
   ]
  },
  {
   "cell_type": "code",
   "execution_count": 21,
   "id": "35b5b1ab",
   "metadata": {},
   "outputs": [],
   "source": [
    "def get_unique_inventory_column_mapping(inventory_type):\n",
    "    mappings = fragility_svc.get_mappings(inventory_type=inventory_type)\n",
    "    unique_column_name = []\n",
    "    for mapping in mappings:\n",
    "        for mp in mapping[\"mappings\"]:\n",
    "            for rule in mp[\"rules\"]:\n",
    "                if isinstance(rule, list):\n",
    "                    for r in rule:\n",
    "                        column_name = r.split(\" \")[1]\n",
    "                        if column_name not in unique_column_name:\n",
    "                            unique_column_name.append(column_name)\n",
    "                elif isinstance(rule, dict):\n",
    "                    for r in rules.values():\n",
    "                        column_name = r.split(\" \")[1]\n",
    "                        if column_name not in unique_column_name:\n",
    "                            unique_column_name.append(column_name)\n",
    "    return unique_column_name"
   ]
  },
  {
   "cell_type": "code",
   "execution_count": 22,
   "id": "1bb958fe",
   "metadata": {
    "scrolled": false
   },
   "outputs": [
    {
     "data": {
      "text/plain": [
       "['Type',\n",
       " 'ancr',\n",
       " 'fill',\n",
       " 'HD',\n",
       " 'backuppowe',\n",
       " 'utilfcltyc',\n",
       " 'data_type',\n",
       " 'DATA_TYPE',\n",
       " 'SUBTYPE',\n",
       " 'subtype']"
      ]
     },
     "execution_count": 22,
     "metadata": {},
     "output_type": "execute_result"
    }
   ],
   "source": [
    "wf_columns = get_unique_inventory_column_mapping(\"water_facility\")\n",
    "wf_columns"
   ]
  },
  {
   "cell_type": "code",
   "execution_count": 23,
   "id": "ce64c2d0",
   "metadata": {},
   "outputs": [
    {
     "data": {
      "text/plain": [
       "['component', 'voltage', 'utilfcltyc', 'type']"
      ]
     },
     "execution_count": 23,
     "metadata": {},
     "output_type": "execute_result"
    }
   ],
   "source": [
    "epf_columns = get_unique_inventory_column_mapping(\"electric_facility\")\n",
    "epf_columns"
   ]
  },
  {
   "cell_type": "code",
   "execution_count": 24,
   "id": "627c8de8",
   "metadata": {},
   "outputs": [
    {
     "data": {
      "text/plain": [
       "['pipetype', 'diameter', 'jointtype', 'soiltype', 'pipelinesc', 'data_type']"
      ]
     },
     "execution_count": 24,
     "metadata": {},
     "output_type": "execute_result"
    }
   ],
   "source": [
    "pipeline_columns = get_unique_inventory_column_mapping(\"buried_pipeline\")\n",
    "pipeline_columns"
   ]
  },
  {
   "cell_type": "code",
   "execution_count": 25,
   "id": "321638dd",
   "metadata": {},
   "outputs": [
    {
     "data": {
      "text/plain": [
       "['dlevel',\n",
       " 'struct_typ',\n",
       " 'no_stories',\n",
       " 'year_built',\n",
       " 'efacility',\n",
       " 'Soil',\n",
       " 'occ_type',\n",
       " 'sq_foot',\n",
       " 'dgn_lvl',\n",
       " 'archetype',\n",
       " 'archtype',\n",
       " 'Retro_S1',\n",
       " 'retrofit_method',\n",
       " 'r_fit']"
      ]
     },
     "execution_count": 25,
     "metadata": {},
     "output_type": "execute_result"
    }
   ],
   "source": [
    "building_columns = get_unique_inventory_column_mapping(\"building\")\n",
    "building_columns"
   ]
  },
  {
   "cell_type": "code",
   "execution_count": 26,
   "id": "b0dd4c23",
   "metadata": {},
   "outputs": [
    {
     "data": {
      "text/plain": [
       "['class', 'tract']"
      ]
     },
     "execution_count": 26,
     "metadata": {},
     "output_type": "execute_result"
    }
   ],
   "source": [
    "bridge_columns = get_unique_inventory_column_mapping(\"bridge\")\n",
    "bridge_columns"
   ]
  },
  {
   "cell_type": "code",
   "execution_count": 27,
   "id": "51cdffd4",
   "metadata": {},
   "outputs": [
    {
     "data": {
      "text/plain": [
       "['lanes']"
      ]
     },
     "execution_count": 27,
     "metadata": {},
     "output_type": "execute_result"
    }
   ],
   "source": [
    "roadway_columns = get_unique_inventory_column_mapping(\"roadway\")\n",
    "roadway_columns"
   ]
  },
  {
   "cell_type": "code",
   "execution_count": 28,
   "id": "891c32aa",
   "metadata": {},
   "outputs": [
    {
     "data": {
      "text/plain": [
       "['linetype']"
      ]
     },
     "execution_count": 28,
     "metadata": {},
     "output_type": "execute_result"
    }
   ],
   "source": [
    "epl_columns = get_unique_inventory_column_mapping(\"electric_power_line\")\n",
    "epl_columns"
   ]
  },
  {
   "cell_type": "code",
   "execution_count": 29,
   "id": "bba74fa2",
   "metadata": {},
   "outputs": [
    {
     "data": {
      "text/plain": [
       "['utilfcltyc']"
      ]
     },
     "execution_count": 29,
     "metadata": {},
     "output_type": "execute_result"
    }
   ],
   "source": [
    "gas_columns = get_unique_inventory_column_mapping(\"gas_facility\")\n",
    "gas_columns"
   ]
  },
  {
   "cell_type": "code",
   "execution_count": null,
   "id": "491e725d",
   "metadata": {},
   "outputs": [],
   "source": []
  }
 ],
 "metadata": {
  "kernelspec": {
   "display_name": "Python 3 (ipykernel)",
   "language": "python",
   "name": "python3"
  },
  "language_info": {
   "codemirror_mode": {
    "name": "ipython",
    "version": 3
   },
   "file_extension": ".py",
   "mimetype": "text/x-python",
   "name": "python",
   "nbconvert_exporter": "python",
   "pygments_lexer": "ipython3",
   "version": "3.8.16"
  }
 },
 "nbformat": 4,
 "nbformat_minor": 5
}
