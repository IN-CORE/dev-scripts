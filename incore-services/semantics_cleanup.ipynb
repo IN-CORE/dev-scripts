{
 "cells": [
  {
   "cell_type": "markdown",
   "id": "b4ffc219",
   "metadata": {},
   "source": [
    "### Scan the specs in pyincore specs"
   ]
  },
  {
   "cell_type": "code",
   "execution_count": null,
   "id": "31a413ed",
   "metadata": {},
   "outputs": [],
   "source": [
    "from pyincore import IncoreClient, SpaceService\n",
    "import pyincore.analyses\n",
    "import os\n",
    "import inspect\n",
    "import importlib\n",
    "from pymongo import MongoClient\n",
    "import csv\n",
    "import json"
   ]
  },
  {
   "cell_type": "code",
   "execution_count": null,
   "id": "53bf7762",
   "metadata": {},
   "outputs": [],
   "source": [
    "client = IncoreClient(\"https://incore-dev.ncsa.illinois.edu\")"
   ]
  },
  {
   "cell_type": "code",
   "execution_count": null,
   "id": "04a7d832",
   "metadata": {},
   "outputs": [],
   "source": [
    "client = IncoreClient()"
   ]
  },
  {
   "cell_type": "code",
   "execution_count": null,
   "id": "e0919a17",
   "metadata": {},
   "outputs": [],
   "source": [
    "def list_folders_in_path(path):\n",
    "    folder_names = [name for name in os.listdir(path) if os.path.isdir(os.path.join(path, name))]\n",
    "    return folder_names"
   ]
  },
  {
   "cell_type": "code",
   "execution_count": null,
   "id": "3131a9db",
   "metadata": {},
   "outputs": [],
   "source": [
    "def list_classes(module):\n",
    "    class_names = [name for name, obj in inspect.getmembers(module) if inspect.isclass(obj)]\n",
    "    return class_names"
   ]
  },
  {
   "cell_type": "code",
   "execution_count": null,
   "id": "a5709ac1",
   "metadata": {},
   "outputs": [],
   "source": [
    "def instantiate_class(module, class_name):\n",
    "    cls = getattr(module, class_name)\n",
    "    instance = cls(client)\n",
    "    return instance"
   ]
  },
  {
   "cell_type": "code",
   "execution_count": null,
   "id": "b35acbc6",
   "metadata": {},
   "outputs": [],
   "source": [
    "# Get a list of all items in the pyincore.analyses package\n",
    "available_analyses = dir(pyincore.analyses)\n",
    "words_to_check = ['util', 'results', 'components']\n",
    "\n",
    "module_names = []\n",
    "unique_dataset_types = []\n",
    "type_keys = []\n",
    "for module_name in list_folders_in_path(pyincore.analyses.__path__[0]):\n",
    "    module = importlib.import_module(\"pyincore.analyses.\" + module_name)\n",
    "    for class_name in list_classes(module):\n",
    "        # extract only classname match the module name\n",
    "        if module_name.lower() in class_name.lower() and all(word not in class_name.lower() for word in words_to_check):\n",
    "            instance = instantiate_class(module, class_name)\n",
    "            \n",
    "            for spec_in in instance.get_spec()[\"input_datasets\"]:\n",
    "                for spec_type in spec_in[\"type\"]:\n",
    "                    if spec_type not in type_keys:\n",
    "                        type_keys.append(spec_type)\n",
    "                        unique_dataset_types.append({\"type\": spec_type, \n",
    "                                                     \"description\": spec_in.get(\"description\"), \n",
    "                                                     \"IO\": \"input\",\n",
    "                                                     \"analyses\": class_name.lower()\n",
    "                                                    })            \n",
    "                    \n",
    "            for spec_out in instance.get_spec()[\"output_datasets\"]:\n",
    "                if spec_out[\"type\"] not in type_keys:\n",
    "                    type_keys.append(spec_out[\"type\"])\n",
    "                    unique_dataset_types.append({\"type\": spec_out[\"type\"], \n",
    "                                                 \"description\": spec_out.get(\"description\"),\n",
    "                                                 \"IO\": \"output\",\n",
    "                                                 \"analyses\": class_name.lower()\n",
    "                                                })"
   ]
  },
  {
   "cell_type": "code",
   "execution_count": null,
   "id": "8de60fab",
   "metadata": {},
   "outputs": [],
   "source": [
    "unique_dataset_types[:2]"
   ]
  },
  {
   "cell_type": "markdown",
   "id": "ea4fd2af",
   "metadata": {},
   "source": [
    "### Compare with what we have"
   ]
  },
  {
   "cell_type": "code",
   "execution_count": null,
   "id": "4433d911",
   "metadata": {},
   "outputs": [],
   "source": [
    "mongo_username = \"root\"\n",
    "mongo_password = os.environ.get(\"PW\")\n",
    "host = \"localhost\"\n",
    "port = \"27019\" # dev\n",
    "\n",
    "mongoclient = MongoClient('mongodb://%s:%s@%s:%s' % (mongo_username, mongo_password, host, port))"
   ]
  },
  {
   "cell_type": "code",
   "execution_count": null,
   "id": "164df606",
   "metadata": {},
   "outputs": [],
   "source": [
    "mongo_username = \"root\"\n",
    "mongo_password = os.environ.get(\"PW\")\n",
    "host = \"localhost\"\n",
    "port = \"27020\" # prod\n",
    "\n",
    "mongoclient = MongoClient('mongodb://%s:%s@%s:%s' % (mongo_username, mongo_password, host, port))"
   ]
  },
  {
   "cell_type": "markdown",
   "id": "dcfe3e81",
   "metadata": {},
   "source": [
    "### Add description"
   ]
  },
  {
   "cell_type": "code",
   "execution_count": null,
   "id": "6b75aef5",
   "metadata": {},
   "outputs": [],
   "source": [
    "for unique_data_type in unique_dataset_types:\n",
    "    found = False\n",
    "    for document in mongoclient['semanticsdb']['Type'].find():\n",
    "        if unique_data_type[\"type\"] == document[\"dc:title\"]:\n",
    "            found = True\n",
    "            document[\"dc:description\"] = unique_data_type[\"description\"]\n",
    "            # replace document\n",
    "            mongoclient['semanticsdb']['Type'].replace_one({'_id':document['_id']}, document)\n",
    "            break\n",
    "    unique_data_type[\"exist\"] = found"
   ]
  },
  {
   "cell_type": "code",
   "execution_count": null,
   "id": "744f5229",
   "metadata": {},
   "outputs": [],
   "source": [
    "# save to csv\n",
    "with open(\"pyincore_unique_data_types.csv\", 'w', newline='') as csvfile:\n",
    "    writer = csv.DictWriter(csvfile, dialect=\"unix\", fieldnames=unique_dataset_types[0].keys())\n",
    "    writer.writeheader()\n",
    "    # Write the data rows to the CSV file\n",
    "    for unique_data_type in unique_dataset_types:\n",
    "        writer.writerow(unique_data_type)"
   ]
  },
  {
   "cell_type": "markdown",
   "id": "8f25b766",
   "metadata": {},
   "source": [
    "### Move to different space (ncsa:)"
   ]
  },
  {
   "cell_type": "code",
   "execution_count": null,
   "id": "03660fd0",
   "metadata": {},
   "outputs": [],
   "source": [
    "spacesvc = SpaceService(client)"
   ]
  },
  {
   "cell_type": "raw",
   "id": "ae474ad4",
   "metadata": {},
   "source": [
    "# create a ncsa space\n",
    "response = spacesvc.create_space(json.dumps({\n",
    "    \"metadata\" : {\n",
    "        \"name\" : \"ncsa\"\n",
    "    },\n",
    "    \"privileges\" : {\n",
    "        \"groupPrivileges\" : {\n",
    "            \"incore_admin\" : \"ADMIN\",\n",
    "            \"incore_ncsa\" : \"ADMIN\"\n",
    "        }\n",
    "    },\n",
    "    \"members\" : []\n",
    "}))\n",
    "ncsa_space_id = response[\"id\"]"
   ]
  },
  {
   "cell_type": "raw",
   "id": "ad7ab765",
   "metadata": {},
   "source": [
    "move_to_ncsa_ids = []\n",
    "for document in mongoclient['semanticsdb']['Type'].find():\n",
    "    if document[\"dc:title\"] not in type_keys:\n",
    "        document_id = str(document[\"_id\"])\n",
    "        # move out of the original space\n",
    "        if document[\"dc:title\"].startswith(\"ergo:\"):\n",
    "            try:\n",
    "                spacesvc.remove_from_space_by_name(\"ergo\", document_id)\n",
    "            except:\n",
    "                print(document_id, \"not in ergo\")\n",
    "            \n",
    "            document[\"dc:title\"] = document[\"dc:title\"].replace(\"ergo:\", \"ncsa:\")\n",
    "        \n",
    "        elif document[\"dc:title\"].startswith(\"incore:\"):\n",
    "            try:\n",
    "                spacesvc.remove_from_space_by_name(\"incore\", document_id)\n",
    "            except:\n",
    "                print(document_id, \"not in incore\")\n",
    "\n",
    "            document[\"dc:title\"] = document[\"dc:title\"].replace(\"incore:\", \"ncsa:\")\n",
    "        elif document[\"dc:title\"].startswith(\"ncsa:\"):\n",
    "            pass\n",
    "        else:\n",
    "            print(\"orphan data type:\", document[\"dc:title\"])\n",
    "            document[\"dc:title\"] = \"ncsa:\" + document[\"dc:title\"]\n",
    "                \n",
    "        document[\"url\"] = document[\"dc:title\"]\n",
    "        \n",
    "#         move to ncsa this endpoint doesnt work\n",
    "#         spacesvc.add_to_space_by_name(\"ncsa\", document_id)\n",
    "        if document_id not in move_to_ncsa_ids:\n",
    "            move_to_ncsa_ids.append(document_id)\n",
    "        \n",
    "        # replace document\n",
    "        mongoclient['semanticsdb']['Type'].replace_one({'_id':document['_id']}, document)"
   ]
  },
  {
   "cell_type": "code",
   "execution_count": null,
   "id": "90626e15",
   "metadata": {},
   "outputs": [],
   "source": [
    "move_to_ergo_ids = []\n",
    "move_to_incore_ids = []\n",
    "move_to_ncsa_ids = []\n",
    "\n",
    "for document in mongoclient['semanticsdb']['Type'].find():\n",
    "    document_id = str(document[\"_id\"])\n",
    "    if document[\"dc:title\"].startswith(\"ergo:\"):\n",
    "        move_to_ergo_ids.append(document_id)\n",
    "    elif document[\"dc:title\"].startswith(\"incore:\"):\n",
    "        move_to_incore_ids.append(document_id)\n",
    "    elif document[\"dc:title\"].startswith(\"ncsa:\"):\n",
    "        move_to_ncsa_ids.append(document_id)\n",
    "    else:\n",
    "        print(\"orphan: \" + document_id)"
   ]
  },
  {
   "cell_type": "code",
   "execution_count": null,
   "id": "a7f43eb6",
   "metadata": {},
   "outputs": [],
   "source": [
    "def add_to_space(space_name, move_to_space_ids):\n",
    "    space_document = mongoclient['spacedb']['Space'].find_one({\"metadata.name\": space_name})\n",
    "    for move_to_space_id in move_to_space_ids:\n",
    "        if move_to_space_id not in space_document[\"members\"]:\n",
    "            space_document[\"members\"].append(move_to_space_id)\n",
    "    \n",
    "    mongoclient['spacedb']['Space'].replace_one({'_id':space_document['_id']}, space_document)"
   ]
  },
  {
   "cell_type": "code",
   "execution_count": null,
   "id": "8b228a3d",
   "metadata": {},
   "outputs": [],
   "source": [
    "add_to_space(\"ncsa\", move_to_ncsa_ids)"
   ]
  },
  {
   "cell_type": "code",
   "execution_count": null,
   "id": "62eae3aa",
   "metadata": {},
   "outputs": [],
   "source": [
    "add_to_space(\"ergo\", move_to_ergo_ids)"
   ]
  },
  {
   "cell_type": "code",
   "execution_count": null,
   "id": "e8e7473c",
   "metadata": {},
   "outputs": [],
   "source": [
    "add_to_space(\"incore\", move_to_incore_ids)"
   ]
  },
  {
   "cell_type": "markdown",
   "id": "0ddccdd7",
   "metadata": {},
   "source": [
    "#### Update dataType for each dataset"
   ]
  },
  {
   "cell_type": "code",
   "execution_count": null,
   "id": "73a4c42d",
   "metadata": {},
   "outputs": [],
   "source": [
    "for data_document in mongoclient['datadb']['Dataset'].find():\n",
    "    if data_document[\"dataType\"] not in type_keys:\n",
    "        if data_document[\"dataType\"].startswith(\"ergo:\"):\n",
    "            data_document[\"dataType\"] = data_document[\"dataType\"].replace(\"ergo:\", \"ncsa:\")\n",
    "        elif data_document[\"dataType\"].startswith(\"incore:\"):\n",
    "            data_document[\"dataType\"] = data_document[\"dataType\"].replace(\"incore:\", \"ncsa:\")\n",
    "        elif data_document[\"dataType\"].startswith(\"ncsa:\"):\n",
    "            pass\n",
    "        else:\n",
    "            print(\"unrecognized data type:\", data_document[\"dataType\"])\n",
    "        \n",
    "        mongoclient['datadb']['Dataset'].replace_one({'_id':data_document['_id']}, data_document)"
   ]
  },
  {
   "cell_type": "code",
   "execution_count": null,
   "id": "f3d35f65",
   "metadata": {},
   "outputs": [],
   "source": []
  }
 ],
 "metadata": {
  "kernelspec": {
   "display_name": "Python 3 (ipykernel)",
   "language": "python",
   "name": "python3"
  },
  "language_info": {
   "codemirror_mode": {
    "name": "ipython",
    "version": 3
   },
   "file_extension": ".py",
   "mimetype": "text/x-python",
   "name": "python",
   "nbconvert_exporter": "python",
   "pygments_lexer": "ipython3",
   "version": "3.9.13"
  }
 },
 "nbformat": 4,
 "nbformat_minor": 5
}
