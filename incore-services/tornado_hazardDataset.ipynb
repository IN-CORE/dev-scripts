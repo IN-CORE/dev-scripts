{
 "cells": [
  {
   "cell_type": "code",
   "execution_count": 1,
   "metadata": {},
   "outputs": [],
   "source": [
    "from pymongo import MongoClient\n",
    "import os\n",
    "from pprint import pprint"
   ]
  },
  {
   "cell_type": "code",
   "execution_count": 2,
   "metadata": {},
   "outputs": [],
   "source": [
    "mongo_username = \"root\"\n",
    "mongo_password = os.environ.get(\"PW\")\n",
    "host = \"localhost\"\n",
    "port = \"27020\"  # prod\n",
    "\n",
    "mongoclient_prod = MongoClient(\n",
    "    \"mongodb://%s:%s@%s:%s\" % (mongo_username, mongo_password, host, port)\n",
    ")"
   ]
  },
  {
   "cell_type": "code",
   "execution_count": null,
   "metadata": {},
   "outputs": [],
   "source": [
    "mongo_username = \"root\"\n",
    "mongo_password = os.environ.get(\"PW\")\n",
    "host = \"localhost\"\n",
    "port = \"27019\"  # dev\n",
    "\n",
    "mongoclient_dev = MongoClient(\n",
    "    \"mongodb://%s:%s@%s:%s\" % (mongo_username, mongo_password, host, port)\n",
    ")"
   ]
  },
  {
   "cell_type": "code",
   "execution_count": 2,
   "metadata": {},
   "outputs": [],
   "source": [
    "host = \"localhost\"\n",
    "port = \"27017\"  # local\n",
    "\n",
    "mongoclient_local = MongoClient(\"mongodb://%s:%s\" % (host, port))"
   ]
  },
  {
   "cell_type": "code",
   "execution_count": null,
   "metadata": {},
   "outputs": [],
   "source": [
    "def add_field(mongodbclient: MongoClient) -> None:\n",
    "    for document in mongodbclient[\"hazarddb\"][\"TornadoDataset\"].find():\n",
    "        document[\"hazardDatasets\"] = [\n",
    "            {\n",
    "                \"datasetId\": document[\"datasetId\"],\n",
    "                \"demandType\": \"wind\",\n",
    "                \"demandUnits\": \"mph\",\n",
    "                \"threshold\": None,\n",
    "            }\n",
    "        ]\n",
    "        # replace document\n",
    "        mongodbclient[\"hazarddb\"][\"TornadoDataset\"].replace_one(\n",
    "            {\"_id\": document[\"_id\"]}, document\n",
    "        )\n",
    "        # pprint(document)"
   ]
  },
  {
   "cell_type": "code",
   "execution_count": 5,
   "metadata": {},
   "outputs": [],
   "source": [
    "## for local\n",
    "add_field(mongoclient_local)\n",
    "\n",
    "## for prod\n",
    "# add_field(mongoclient_prod)\n",
    "\n",
    "## for dev\n",
    "# add_field(mongoclient_dev)"
   ]
  },
  {
   "cell_type": "code",
   "execution_count": null,
   "metadata": {},
   "outputs": [],
   "source": [
    "def del_datasetId(mongodbclient: MongoClient) -> None:\n",
    "    for document in mongodbclient[\"hazarddb\"][\"TornadoDataset\"].find():\n",
    "        # remove datasetId key from main document\n",
    "        del document[\"datasetId\"]\n",
    "        # replace document\n",
    "        mongodbclient[\"hazarddb\"][\"TornadoDataset\"].replace_one(\n",
    "            {\"_id\": document[\"_id\"]}, document\n",
    "        )"
   ]
  },
  {
   "cell_type": "code",
   "execution_count": null,
   "metadata": {},
   "outputs": [],
   "source": [
    "### run after we have updated all other components and we are ready to remove this key.\n",
    "\n",
    "## for local\n",
    "# del_datasetId(mongoclient_local)\n",
    "\n",
    "## for prod\n",
    "# del_datasetId(mongoclient_prod)\n",
    "\n",
    "## for dev\n",
    "# del_datasetId(mongoclient_dev)"
   ]
  }
 ],
 "metadata": {
  "kernelspec": {
   "display_name": "incore",
   "language": "python",
   "name": "python3"
  },
  "language_info": {
   "codemirror_mode": {
    "name": "ipython",
    "version": 3
   },
   "file_extension": ".py",
   "mimetype": "text/x-python",
   "name": "python",
   "nbconvert_exporter": "python",
   "pygments_lexer": "ipython3",
   "version": "3.11.6"
  }
 },
 "nbformat": 4,
 "nbformat_minor": 2
}
