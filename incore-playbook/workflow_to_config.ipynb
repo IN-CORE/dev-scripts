{
 "cells": [
  {
   "cell_type": "code",
   "execution_count": 10,
   "id": "892ae9dd",
   "metadata": {},
   "outputs": [],
   "source": [
    "import requests\n",
    "import json"
   ]
  },
  {
   "cell_type": "code",
   "execution_count": 2,
   "id": "6d1e5d42",
   "metadata": {},
   "outputs": [],
   "source": [
    "datawolf_base = \"https://incore-dev.ncsa.illinois.edu/datawolf/\"\n",
    "datwolf_workflow_uri = datawolf_base + \"workflows/\""
   ]
  },
  {
   "cell_type": "code",
   "execution_count": 3,
   "id": "89b967eb",
   "metadata": {},
   "outputs": [],
   "source": [
    "def get_workflow_def(datwolf_workflow_uri, workflow_id,token):\n",
    "    res = requests.get(datwolf_workflow_uri+workflow_id , headers={\"authorization\": token})\n",
    "    workflow_def = res.json()\n",
    "    \n",
    "    return workflow_def"
   ]
  },
  {
   "cell_type": "code",
   "execution_count": 4,
   "id": "76661406",
   "metadata": {},
   "outputs": [],
   "source": [
    "# template\n",
    "def construct_datwolf_config_template(workflow_def):\n",
    "    return {\n",
    "        \"title\": workflow_def[\"title\"],\n",
    "        \"description\": workflow_def[\"description\"],\n",
    "        \"wfTitle\": workflow_def[\"title\"],\n",
    "        \"wfId\": workflow_def[\"id\"],\n",
    "        \"creatorId\": workflow_def[\"creator\"][\"id\"], \n",
    "        \"inputs\": {\n",
    "            \"parameters\": [],\n",
    "            \"datasets\": []\n",
    "        },\n",
    "        \"outputs\": {\n",
    "            \"datasets\":[{\n",
    "                \"title\": \"\",\n",
    "                \"description\": \"\",\n",
    "                \"datasetsMap\": [],\n",
    "            }]\n",
    "        },\n",
    "        \"metadata\":[]\n",
    "    }"
   ]
  },
  {
   "cell_type": "code",
   "execution_count": 5,
   "id": "0142d166",
   "metadata": {
    "scrolled": true
   },
   "outputs": [],
   "source": [
    "def construct_datwolf_config_parameters(workflow_def, datawolf_config_template):\n",
    "    parameters = {}\n",
    "    for step in workflow_def[\"steps\"]:\n",
    "        for param in step[\"tool\"][\"parameters\"]:\n",
    "            if param[\"id\"] not in parameters.keys():\n",
    "                parameters[param[\"id\"]] = {\n",
    "                    \"title\": param[\"title\"],\n",
    "                    \"description\": param[\"description\"],\n",
    "                    \"variableName\":\"\",\n",
    "                    \"widget\":None,\n",
    "                    \"hidden\":False,\n",
    "                    \"defaultValue\":param[\"value\"],\n",
    "                    \"parametersMap\":[{\n",
    "                        \"paramId\": step[\"parameters\"][param[\"parameterId\"]],\n",
    "                        \"parameters\": {\n",
    "                            \"step\": step[\"title\"],\n",
    "                            \"title\": param[\"title\"]\n",
    "                        }\n",
    "                    }]\n",
    "                }\n",
    "            else:\n",
    "                # append to parametersMap\n",
    "                parameters[param[\"id\"]][\"parametersMap\"].append({\n",
    "                    \"paramId\": step[\"parameters\"][param[\"parameterId\"]],\n",
    "                        \"parameters\": {\n",
    "                            \"step\": step[\"title\"],\n",
    "                            \"title\": param[\"title\"]\n",
    "                        }\n",
    "                })\n",
    "    for entry in parameters.values():\n",
    "        datawolf_config[\"inputs\"][\"parameters\"].append(entry)\n",
    "    \n",
    "    return datawolf_config_template"
   ]
  },
  {
   "cell_type": "code",
   "execution_count": 6,
   "id": "ec490f40",
   "metadata": {},
   "outputs": [],
   "source": [
    "def construct_datawolf_config_input_datasets(workflow_def, datawolf_config_template):\n",
    "    datasets = {}\n",
    "    for step in workflow_def[\"steps\"]:\n",
    "        for dt in step[\"tool\"][\"inputs\"]:\n",
    "            if dt[\"id\"] not in datasets.keys():\n",
    "                datasets[dt[\"id\"]] = {\n",
    "                        \"title\": dt[\"title\"],\n",
    "                        \"description\": dt[\"description\"],\n",
    "                        \"variableName\":\"\",\n",
    "                        \"widget\":None,\n",
    "                        \"hidden\":True,\n",
    "                        \"datasetsMap\":[\n",
    "                            {\n",
    "                                \"datasetId\": step[\"inputs\"][dt[\"dataId\"]],\n",
    "                                \"datasets\": {\n",
    "                                    \"step\": step[\"title\"],\n",
    "                                    \"title\": dt[\"title\"]\n",
    "                            }\n",
    "                        }]\n",
    "                    }\n",
    "            \n",
    "            else:\n",
    "                # append to parametersMap\n",
    "                datasets[dt[\"id\"]][\"datasetsMap\"].append({\n",
    "                                \"datasetId\": step[\"inputs\"][dt[\"dataId\"]],\n",
    "                                \"datasets\": {\n",
    "                                    \"step\": step[\"title\"],\n",
    "                                    \"title\": dt[\"title\"]\n",
    "                                }\n",
    "                            })\n",
    "    for entry in datasets.values():\n",
    "        datawolf_config[\"inputs\"][\"datasets\"].append(entry)\n",
    "    \n",
    "    return datawolf_config_template"
   ]
  },
  {
   "cell_type": "code",
   "execution_count": 19,
   "id": "a2edef5e",
   "metadata": {},
   "outputs": [],
   "source": [
    "def construct_datawolf_config_output_datasets(workflow_def, datawolf_config_template):\n",
    "    \n",
    "    # outputs are unique\n",
    "    for step in workflow_def[\"steps\"]:\n",
    "        for dt in step[\"tool\"][\"outputs\"]:\n",
    "            if dt[\"title\"] == \"stdout\":\n",
    "                widget = \"Log\"\n",
    "            else:\n",
    "                widget = \"\"\n",
    "            datawolf_config[\"outputs\"][\"datasets\"][0][\"datasetsMap\"].append({\n",
    "                \"datasetId\":step[\"outputs\"][dt[\"dataId\"]],\n",
    "                \"datasets\": {\n",
    "                        \"step\": step[\"title\"],\n",
    "                        \"title\": dt[\"title\"],\n",
    "                        \"variableName\": (step[\"title\"]+dt[\"title\"]).replace(\" \", \"\"),\n",
    "                        \"widget\": widget\n",
    "                    }\n",
    "            })     \n",
    "    \n",
    "    return datawolf_config_template"
   ]
  },
  {
   "cell_type": "code",
   "execution_count": 20,
   "id": "65355666",
   "metadata": {},
   "outputs": [],
   "source": [
    "workflow_id = \"05e5ac18-c202-4a8b-973d-01afcae20b14\"\n",
    "token = \"bearer eyJhbGciOiJSUzI1NiIsInR5cCIgOiAiSldUIiwia2lkIiA6ICJabHVyQldkLUhHV2ZxeUNkb28yc1FEbmd4RE9mbEVZeks3My05UXpnY0JBIn0.eyJleHAiOjE2NzgxNjQ1NDMsImlhdCI6MTY3ODEyMTM0MywianRpIjoiYTA1YmViZjEtNDQ3MC00Mzk2LTgzZTItODJkZjRlNzc4OTdjIiwiaXNzIjoiaHR0cHM6Ly9pbmNvcmUtZGV2Lm5jc2EuaWxsaW5vaXMuZWR1L3JlYWxtcy9Jbi1jb3JlIiwiYXVkIjpbIklOQ09SRSIsImFjY291bnQiXSwic3ViIjoiZDNiZGUyMmYtMGY5Ni00NGQ3LTgyMjktMDFkMTNhYWM4ZGZmIiwidHlwIjoiQmVhcmVyIiwiYXpwIjoicmVhY3QtYXV0aCIsInNlc3Npb25fc3RhdGUiOiI0NjZmNGI4Zi1hZTNhLTQyMjQtYjEwNS03NTRjYTdiYmIxNTgiLCJhY3IiOiIxIiwiYWxsb3dlZC1vcmlnaW5zIjpbImh0dHA6Ly9sb2NhbGhvc3Q6MzAwMCJdLCJyZWFsbV9hY2Nlc3MiOnsicm9sZXMiOlsib2ZmbGluZV9hY2Nlc3MiLCJ1bWFfYXV0aG9yaXphdGlvbiIsImluY29yZV91c2VyX3JvbGUiXX0sInJlc291cmNlX2FjY2VzcyI6eyJhY2NvdW50Ijp7InJvbGVzIjpbIm1hbmFnZS1hY2NvdW50Iiwidmlldy1wcm9maWxlIl19fSwic2NvcGUiOiJwcm9maWxlIGVtYWlsIiwic2lkIjoiNDY2ZjRiOGYtYWUzYS00MjI0LWIxMDUtNzU0Y2E3YmJiMTU4IiwiZW1haWxfdmVyaWZpZWQiOnRydWUsInVpZF9udW1iZXIiOjU2MDIxLCJuYW1lIjoiQ2hlbiBXYW5nIiwiZ3JvdXBzIjpbImluY29yZV9qdXB5dGVyIiwiaW5jb3JlX3NsY191c2VyIiwiaW5jb3JlX2dhbHZlc3Rvbl91c2VyIiwiaW5jb3JlX2pvcGxpbl91c2VyIiwiaW5jb3JlX3VzZXIiLCJpbmNvcmVfY29lIiwiaW5jb3JlX25jc2EiXSwicHJlZmVycmVkX3VzZXJuYW1lIjoiY3dhbmcxMzgiLCJnaXZlbl9uYW1lIjoiQ2hlbiIsImZhbWlseV9uYW1lIjoiV2FuZyIsImVtYWlsIjoiY3dhbmcxMzhAaWxsaW5vaXMuZWR1In0.Jm9R-gNhp45Zzz9Z1SQAMoupYIY7uIe5iDjTMyDJR4H3GFZAPEteu9JKsY4PUwTwIwP5-i7f6t2mVQbL6EsRUJaV-cUTvyN13c0WBTo4EJpPPE1cYkk2cMAJLMkdU5GOashhXebszG9gf8eE-3eRd2GfFtGzF8W8neH9x7kofz3xsmiDblDLR65Cre03LrcowcWGlOgveQCmIKThQ9nEYa4SPuqKML8mMbiMSCtD7CyB873n6PumfuKeW99SdEDLT0NnoDIKT6MYXJ2VKhqXodDHpcu2aIYlcjwXbzeu3UoFAeRxd0zg-qzf0RDScq9ATe18Zk_6sX3ogIpomogw8w\"\n",
    "\n",
    "workflow_def = get_workflow_def(datwolf_workflow_uri, workflow_id,token)\n",
    "datawolf_config = construct_datwolf_config_template(workflow_def)\n",
    "datawolf_config = construct_datwolf_config_parameters(workflow_def, datawolf_config)\n",
    "datawolf_config = construct_datawolf_config_input_datasets(workflow_def, datawolf_config)\n",
    "datawolf_config = construct_datawolf_config_output_datasets(workflow_def, datawolf_config)"
   ]
  },
  {
   "cell_type": "code",
   "execution_count": 21,
   "id": "3fbe0da2",
   "metadata": {},
   "outputs": [],
   "source": [
    "# save as json\n",
    "with open(\"datawolf.config.json\", \"w\") as f:\n",
    "    json.dump(datawolf_config, f, indent=2)"
   ]
  },
  {
   "cell_type": "code",
   "execution_count": null,
   "id": "08e4bfba",
   "metadata": {},
   "outputs": [],
   "source": []
  }
 ],
 "metadata": {
  "kernelspec": {
   "display_name": "Python 3 (ipykernel)",
   "language": "python",
   "name": "python3"
  },
  "language_info": {
   "codemirror_mode": {
    "name": "ipython",
    "version": 3
   },
   "file_extension": ".py",
   "mimetype": "text/x-python",
   "name": "python",
   "nbconvert_exporter": "python",
   "pygments_lexer": "ipython3",
   "version": "3.9.13"
  }
 },
 "nbformat": 4,
 "nbformat_minor": 5
}
